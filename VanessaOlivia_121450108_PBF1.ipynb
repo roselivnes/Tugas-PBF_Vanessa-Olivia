{
  "nbformat": 4,
  "nbformat_minor": 0,
  "metadata": {
    "colab": {
      "provenance": []
    },
    "kernelspec": {
      "name": "python3",
      "display_name": "Python 3"
    },
    "language_info": {
      "name": "python"
    }
  },
  "cells": [
    {
      "cell_type": "code",
      "execution_count": 22,
      "metadata": {
        "id": "WRO3ni04E7Jt",
        "colab": {
          "base_uri": "https://localhost:8080/"
        },
        "outputId": "1907418a-cae3-4f95-ae5d-bb68335dea35"
      },
      "outputs": [
        {
          "output_type": "stream",
          "name": "stdout",
          "text": [
            "Masukkan Password Anda : vanessa!\n",
            "Password awal Anda : vanessa!\n",
            "Password terenkripsi : T^-Sc-TV-Sg-T[-T[-Sc-QW-\n"
          ]
        }
      ],
      "source": [
        "def encryption(password):\n",
        "    result = \"\"\n",
        "    for char in password:\n",
        "        ascii = ord(char)   #karakter diubah menjadi ASCII lalu di tampung kedalam list\n",
        "        value1 = (ascii / 26) + 80     \n",
        "        value2 = (ascii % 26) + 80    \n",
        "\n",
        "    #value 3\n",
        "        if value1 > value2:  \n",
        "            value3 = \"+\"\n",
        "        else:\n",
        "            value3 = \"-\"\n",
        "        result += chr(int(value1)) + chr(int(value2)) + value3 #menggabungkan  value 1,2, dan 3\n",
        "    return result\n",
        "\n",
        "password = input(\"Masukkan Password Anda : \")\n",
        "if len(password) > 100:\n",
        "    print(\" Password anda eror karena terlalu panjang.\")\n",
        "else:\n",
        "    encrypted_password = encryption(password)\n",
        "    print(\"Password awal Anda : \" + password)\n",
        "    print(\"Password terenkripsi : \" + encrypted_password)"
      ]
    }
  ]
}